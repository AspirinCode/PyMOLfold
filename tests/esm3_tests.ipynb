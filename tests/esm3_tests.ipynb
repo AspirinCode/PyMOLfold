{
 "cells": [
  {
   "cell_type": "code",
   "execution_count": null,
   "metadata": {},
   "outputs": [],
   "source": [
    "from esm.models.esmc import ESMC\n",
    "from esm.sdk.api import ESMProtein, GenerationConfig"
   ]
  },
  {
   "cell_type": "code",
   "execution_count": null,
   "metadata": {},
   "outputs": [],
   "source": [
    "from esm.sdk import client\n",
    "\n",
    "model = client(model=\"esm3-small-2024-08\", url=\"https://forge.evolutionaryscale.ai\", token=\"PQZTYWyur8fur6koyJ3Jb\")"
   ]
  },
  {
   "cell_type": "code",
   "execution_count": 35,
   "metadata": {},
   "outputs": [],
   "source": [
    "structure_prediction_config = GenerationConfig(\n",
    "    track=\"structure\",  # We want ESM3 to generate tokens for the structure track\n",
    "    num_steps=8,\n",
    "    temperature=0.7,\n",
    ")\n",
    "\n",
    "structure_prediction_prompt = ESMProtein(sequence=\"AAAGACAAAAACMAAAFA\")\n",
    "\n",
    "structure_prediction = model.generate(\n",
    "    structure_prediction_prompt, structure_prediction_config\n",
    ")"
   ]
  },
  {
   "cell_type": "code",
   "execution_count": 41,
   "metadata": {},
   "outputs": [],
   "source": [
    "# structure_prediction"
   ]
  },
  {
   "cell_type": "code",
   "execution_count": 37,
   "metadata": {},
   "outputs": [],
   "source": [
    "structure_prediction_chain = structure_prediction.to_protein_chain()"
   ]
  },
  {
   "cell_type": "code",
   "execution_count": null,
   "metadata": {},
   "outputs": [
    {
     "data": {
      "text/plain": [
       "'ATOM      1  N   ALA A   1       3.843 -12.138  16.392  1.00  0.80           N  \\nATOM      2  CA  ALA A   1       4.625 -11.125  15.688  1.00  0.80           C  \\nATOM      3  C   ALA A   1       3.764 -10.372  14.677  1.00  0.80           C  \\nATOM      4  CB  ALA A   1       5.821 -11.767  14.989  1.00  0.80           C  \\nATOM      5  O   ALA A   1       4.282  -9.801  13.714  1.00  0.80           O  \\nATOM      6  N   ALA A   2       3.018 -10.114  15.015  1.00  0.86           N  \\nATOM      7  CA  ALA A   2       2.125  -9.375  14.125  1.00  0.86           C  \\nATOM      8  C   ALA A   2       2.673  -7.982  13.831  1.00  0.86           C  \\nATOM      9  CB  ALA A   2       0.729  -9.276  14.734  1.00  0.86           C  \\nATOM     10  O   ALA A   2       2.235  -7.322  12.886  1.00  0.86           O  \\nATOM     11  N   ALA A   3       3.679  -7.521  14.437  1.00  0.87           N  \\nATOM     12  CA  ALA A   3       4.188  -6.188  14.125  1.00  0.87           C  \\nATOM     13  C   ALA A   3       4.687  -6.114  12.685  1.00  0.87           C  \\nATOM     14  CB  ALA A   3       5.304  -5.804  15.093  1.00  0.87           C  \\nATOM     15  O   ALA A   3       4.493  -5.103  12.005  1.00  0.87           O  \\nATOM     16  N   GLY A   4       5.188  -7.291  12.146  1.00  0.86           N  \\nATOM     17  CA  GLY A   4       5.594  -7.344  10.750  1.00  0.86           C  \\nATOM     18  C   GLY A   4       4.460  -7.046   9.788  1.00  0.86           C  \\nATOM     19  O   GLY A   4       4.668  -6.411   8.752  1.00  0.86           O  \\nATOM     20  N   ALA A   5       3.529  -7.429  10.091  1.00  0.87           N  \\nATOM     21  CA  ALA A   5       2.359  -7.188   9.250  1.00  0.87           C  \\nATOM     22  C   ALA A   5       2.117  -5.692   9.064  1.00  0.87           C  \\nATOM     23  CB  ALA A   5       1.125  -7.853   9.853  1.00  0.87           C  \\nATOM     24  O   ALA A   5       1.880  -5.230   7.946  1.00  0.87           O  \\nATOM     25  N   CYS A   6       2.203  -5.010  10.037  1.00  0.86           N  \\nATOM     26  CA  CYS A   6       2.031  -3.562  10.000  1.00  0.86           C  \\nATOM     27  C   CYS A   6       3.110  -2.907   9.146  1.00  0.86           C  \\nATOM     28  CB  CYS A   6       2.064  -2.982  11.414  1.00  0.86           C  \\nATOM     29  O   CYS A   6       2.812  -2.049   8.313  1.00  0.86           O  \\nATOM     30  SG  CYS A   6       0.560  -3.292  12.363  1.00  0.86           S  \\nATOM     31  N   ALA A   7       4.252  -3.426   9.319  1.00  0.85           N  \\nATOM     32  CA  ALA A   7       5.344  -2.906   8.500  1.00  0.85           C  \\nATOM     33  C   ALA A   7       5.120  -3.221   7.024  1.00  0.85           C  \\nATOM     34  CB  ALA A   7       6.679  -3.481   8.967  1.00  0.85           C  \\nATOM     35  O   ALA A   7       5.293  -2.354   6.164  1.00  0.85           O  \\nATOM     36  N   ALA A   8       4.703  -4.318   6.724  1.00  0.86           N  \\nATOM     37  CA  ALA A   8       4.312  -4.719   5.375  1.00  0.86           C  \\nATOM     38  C   ALA A   8       3.205  -3.819   4.834  1.00  0.86           C  \\nATOM     39  CB  ALA A   8       3.863  -6.178   5.363  1.00  0.86           C  \\nATOM     40  O   ALA A   8       3.278  -3.349   3.697  1.00  0.86           O  \\nATOM     41  N   ALA A   9       2.404  -3.552   5.398  1.00  0.87           N  \\nATOM     42  CA  ALA A   9       1.297  -2.672   5.031  1.00  0.87           C  \\nATOM     43  C   ALA A   9       1.791  -1.255   4.753  1.00  0.87           C  \\nATOM     44  CB  ALA A   9       0.242  -2.657   6.134  1.00  0.87           C  \\nATOM     45  O   ALA A   9       1.403  -0.640   3.757  1.00  0.87           O  \\nATOM     46  N   ALA A  10       2.451  -0.826   5.630  1.00  0.86           N  \\nATOM     47  CA  ALA A  10       3.062   0.486   5.438  1.00  0.86           C  \\nATOM     48  C   ALA A  10       3.858   0.535   4.136  1.00  0.86           C  \\nATOM     49  CB  ALA A  10       3.962   0.833   6.621  1.00  0.86           C  \\nATOM     50  O   ALA A  10       3.718   1.476   3.351  1.00  0.86           O  \\nATOM     51  N   ALA A  11       4.579  -0.377   4.035  1.00  0.86           N  \\nATOM     52  CA  ALA A  11       5.375  -0.439   2.812  1.00  0.86           C  \\nATOM     53  C   ALA A  11       4.481  -0.541   1.580  1.00  0.86           C  \\nATOM     54  CB  ALA A  11       6.339  -1.622   2.865  1.00  0.86           C  \\nATOM     55  O   ALA A  11       4.689   0.171   0.594  1.00  0.86           O  \\nATOM     56  N   CYS A  12       3.626  -1.296   1.627  1.00  0.85           N  \\nATOM     57  CA  CYS A  12       2.656  -1.438   0.547  1.00  0.85           C  \\nATOM     58  C   CYS A  12       1.958  -0.113   0.263  1.00  0.85           C  \\nATOM     59  CB  CYS A  12       1.620  -2.506   0.894  1.00  0.85           C  \\nATOM     60  O   CYS A  12       1.821   0.287  -0.894  1.00  0.85           O  \\nATOM     61  SG  CYS A  12       1.984  -4.129   0.189  1.00  0.85           S  \\nATOM     62  N   MET A  13       1.639   0.504   1.148  1.00  0.85           N  \\nATOM     63  CA  MET A  13       1.047   1.836   1.062  1.00  0.85           C  \\nATOM     64  C   MET A  13       2.024   2.826   0.438  1.00  0.85           C  \\nATOM     65  CB  MET A  13       0.620   2.325   2.447  1.00  0.85           C  \\nATOM     66  O   MET A  13       1.648   3.608  -0.437  1.00  0.85           O  \\nATOM     67  CG  MET A  13      -0.880   2.526   2.591  1.00  0.85           C  \\nATOM     68  SD  MET A  13      -1.366   2.999   4.296  1.00  0.85           S  \\nATOM     69  CE  MET A  13       0.239   3.540   4.948  1.00  0.85           C  \\nATOM     70  N   ALA A  14       3.066   2.806   0.904  1.00  0.85           N  \\nATOM     71  CA  ALA A  14       4.125   3.609   0.297  1.00  0.85           C  \\nATOM     72  C   ALA A  14       4.293   3.269  -1.181  1.00  0.85           C  \\nATOM     73  CB  ALA A  14       5.442   3.403   1.041  1.00  0.85           C  \\nATOM     74  O   ALA A  14       4.373   4.164  -2.026  1.00  0.85           O  \\nATOM     75  N   ALA A  15       4.386   2.116  -1.486  1.00  0.84           N  \\nATOM     76  CA  ALA A  15       4.469   1.672  -2.875  1.00  0.84           C  \\nATOM     77  C   ALA A  15       3.281   2.181  -3.686  1.00  0.84           C  \\nATOM     78  CB  ALA A  15       4.541   0.148  -2.943  1.00  0.84           C  \\nATOM     79  O   ALA A  15       3.441   2.608  -4.832  1.00  0.84           O  \\nATOM     80  N   ALA A  16       2.205   2.107  -3.210  1.00  0.82           N  \\nATOM     81  CA  ALA A  16       1.008   2.594  -3.891  1.00  0.82           C  \\nATOM     82  C   ALA A  16       1.086   4.099  -4.128  1.00  0.82           C  \\nATOM     83  CB  ALA A  16      -0.241   2.249  -3.083  1.00  0.82           C  \\nATOM     84  O   ALA A  16       0.578   4.603  -5.132  1.00  0.82           O  \\nATOM     85  N   PHE A  17       1.513   4.776  -3.454  1.00  0.83           N  \\nATOM     86  CA  PHE A  17       1.680   6.219  -3.578  1.00  0.83           C  \\nATOM     87  C   PHE A  17       2.855   6.551  -4.489  1.00  0.83           C  \\nATOM     88  CB  PHE A  17       1.885   6.858  -2.201  1.00  0.83           C  \\nATOM     89  O   PHE A  17       2.900   7.630  -5.084  1.00  0.83           O  \\nATOM     90  CG  PHE A  17       0.647   6.871  -1.347  1.00  0.83           C  \\nATOM     91  CD1 PHE A  17       0.677   7.399  -0.062  1.00  0.83           C  \\nATOM     92  CD2 PHE A  17      -0.549   6.356  -1.830  1.00  0.83           C  \\nATOM     93  CE1 PHE A  17      -0.468   7.413   0.731  1.00  0.83           C  \\nATOM     94  CE2 PHE A  17      -1.698   6.366  -1.043  1.00  0.83           C  \\nATOM     95  CZ  PHE A  17      -1.655   6.894   0.237  1.00  0.83           C  \\nATOM     96  N   ALA A  18       3.932   5.699  -4.568  1.00  0.82           N  \\nATOM     97  CA  ALA A  18       5.031   5.938  -5.500  1.00  0.82           C  \\nATOM     98  C   ALA A  18       4.612   5.626  -6.934  1.00  0.82           C  \\nATOM     99  CB  ALA A  18       6.249   5.102  -5.112  1.00  0.82           C  \\nATOM    100  O   ALA A  18       4.906   6.394  -7.854  1.00  0.82           O  \\n'"
      ]
     },
     "execution_count": 39,
     "metadata": {},
     "output_type": "execute_result"
    }
   ],
   "source": [
    "structure_prediction_chain.to_pdb_string()"
   ]
  },
  {
   "cell_type": "code",
   "execution_count": null,
   "metadata": {},
   "outputs": [],
   "source": []
  }
 ],
 "metadata": {
  "kernelspec": {
   "display_name": "Python 3",
   "language": "python",
   "name": "python3"
  },
  "language_info": {
   "codemirror_mode": {
    "name": "ipython",
    "version": 3
   },
   "file_extension": ".py",
   "mimetype": "text/x-python",
   "name": "python",
   "nbconvert_exporter": "python",
   "pygments_lexer": "ipython3",
   "version": "3.10.14"
  }
 },
 "nbformat": 4,
 "nbformat_minor": 2
}
