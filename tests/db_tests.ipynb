{
 "cells": [
  {
   "cell_type": "markdown",
   "metadata": {},
   "source": [
    "# Database Tests"
   ]
  },
  {
   "cell_type": "code",
   "execution_count": 18,
   "metadata": {},
   "outputs": [],
   "source": [
    "import os, requests\n",
    "from pathlib import Path\n",
    "import tempfile"
   ]
  },
  {
   "cell_type": "markdown",
   "metadata": {},
   "source": [
    "## UniProt\n",
    "\n",
    "(Sequence Retrieval)"
   ]
  },
  {
   "cell_type": "code",
   "execution_count": 2,
   "metadata": {},
   "outputs": [],
   "source": [
    "uniprot_id = 'P05067'"
   ]
  },
  {
   "cell_type": "code",
   "execution_count": null,
   "metadata": {},
   "outputs": [],
   "source": [
    "def get_uniprot_sequence(uniprot_id):\n",
    "    params = {\"fields\": [\"sequence\"]}\n",
    "    headers = {\"accept\": \"application/json\"}\n",
    "    \n",
    "    uniprot_url = f\"https://rest.uniprot.org/uniprotkb/{uniprot_id}\"\n",
    "\n",
    "    response = requests.get(uniprot_url, headers=headers, params=params)\n",
    "\n",
    "    if not response.ok:\n",
    "        response.raise_for_status()\n",
    "\n",
    "    data = response.json()\n",
    "    return data['sequence']['value']"
   ]
  },
  {
   "cell_type": "code",
   "execution_count": 7,
   "metadata": {},
   "outputs": [
    {
     "data": {
      "text/plain": [
       "'MLPGLALLLLAAWTARALEVPTDGNAGLLAEPQIAMFCGRLNMHMNVQNGKWDSDPSGTKTCIDTKEGILQYCQEVYPELQITNVVEANQPVTIQNWCKRGRKQCKTHPHFVIPYRCLVGEFVSDALLVPDKCKFLHQERMDVCETHLHWHTVAKETCSEKSTNLHDYGMLLPCGIDKFRGVEFVCCPLAEESDNVDSADAEEDDSDVWWGGADTDYADGSEDKVVEVAEEEEVAEVEEEEADDDEDDEDGDEVEEEAEEPYEEATERTTSIATTTTTTTESVEEVVREVCSEQAETGPCRAMISRWYFDVTEGKCAPFFYGGCGGNRNNFDTEEYCMAVCGSAMSQSLLKTTQEPLARDPVKLPTTAASTPDAVDKYLETPGDENEHAHFQKAKERLEAKHRERMSQVMREWEEAERQAKNLPKADKKAVIQHFQEKVESLEQEAANERQQLVETHMARVEAMLNDRRRLALENYITALQAVPPRPRHVFNMLKKYVRAEQKDRQHTLKHFEHVRMVDPKKAAQIRSQVMTHLRVIYERMNQSLSLLYNVPAVAEEIQDEVDELLQKEQNYSDDVLANMISEPRISYGNDALMPSLTETKTTVELLPVNGEFSLDDLQPWHSFGADSVPANTENEVEPVDARPAADRGLTTRPGSGLTNIKTEEISEVKMDAEFRHDSGYEVHHQKLVFFAEDVGSNKGAIIGLMVGGVVIATVIVITLVMLKKKQYTSIHHGVVEVDAAVTPEERHLSKMQQNGYENPTYKFFEQMQN'"
      ]
     },
     "execution_count": 7,
     "metadata": {},
     "output_type": "execute_result"
    }
   ],
   "source": [
    "get_uniprot_sequence(uniprot_id)"
   ]
  },
  {
   "cell_type": "markdown",
   "metadata": {},
   "source": [
    "## AlphaFoldDB\n",
    "\n",
    "(Retrieve Structure)"
   ]
  },
  {
   "cell_type": "code",
   "execution_count": 8,
   "metadata": {},
   "outputs": [],
   "source": [
    "database_id = 'P05067'"
   ]
  },
  {
   "cell_type": "code",
   "execution_count": 20,
   "metadata": {},
   "outputs": [],
   "source": [
    "def get_afdb_structure(database_id):\n",
    "    params = {}\n",
    "    headers = {\"accept\": \"application/json\"}\n",
    "    \n",
    "    afdb_url = f\"https://alphafold.ebi.ac.uk/api/prediction/{database_id}\"\n",
    "\n",
    "    response = requests.get(afdb_url, headers=headers, params=params)\n",
    "\n",
    "    if not response.ok:\n",
    "        response.raise_for_status()\n",
    "\n",
    "    data = response.json()\n",
    "\n",
    "    pdb_url = data[0]['pdbUrl']\n",
    "\n",
    "    ## Download the PDB file to temp directory\n",
    "    pdb_file_path = tempfile.NamedTemporaryFile(delete=False, suffix=\".pdb\")\n",
    "\n",
    "    with requests.get(pdb_url, stream=True) as r:\n",
    "        r.raise_for_status()\n",
    "        for chunk in r.iter_content(chunk_size=8192):\n",
    "            pdb_file_path.write(chunk)\n",
    "\n",
    "    return pdb_file_path.name"
   ]
  },
  {
   "cell_type": "code",
   "execution_count": 21,
   "metadata": {},
   "outputs": [
    {
     "data": {
      "text/plain": [
       "'/var/folders/__/1v5xyw5s0tl2z88yrm0lb4d40000gn/T/tmp6j6nt7_q.pdb'"
      ]
     },
     "execution_count": 21,
     "metadata": {},
     "output_type": "execute_result"
    }
   ],
   "source": [
    "get_afdb_structure(database_id)"
   ]
  },
  {
   "cell_type": "code",
   "execution_count": null,
   "metadata": {},
   "outputs": [],
   "source": []
  }
 ],
 "metadata": {
  "kernelspec": {
   "display_name": "base",
   "language": "python",
   "name": "python3"
  },
  "language_info": {
   "codemirror_mode": {
    "name": "ipython",
    "version": 3
   },
   "file_extension": ".py",
   "mimetype": "text/x-python",
   "name": "python",
   "nbconvert_exporter": "python",
   "pygments_lexer": "ipython3",
   "version": "3.12.7"
  }
 },
 "nbformat": 4,
 "nbformat_minor": 2
}
