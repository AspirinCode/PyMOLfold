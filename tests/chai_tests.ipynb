{
 "cells": [
  {
   "cell_type": "markdown",
   "metadata": {},
   "source": [
    "# Chai-1 Tests"
   ]
  },
  {
   "cell_type": "code",
   "execution_count": null,
   "metadata": {},
   "outputs": [],
   "source": [
    "from chai_lab.chai1 import run_inference\n",
    "import torch\n",
    "import tempfile\n",
    "from pathlib import Path"
   ]
  },
  {
   "cell_type": "code",
   "execution_count": null,
   "metadata": {},
   "outputs": [],
   "source": [
    "aa_sequence = \"FVNQHLCGSHLVEALYLVCGERGFFYTPKTRREAEDLQGSLQPLALEGSLQKRGIVEQCCTSICSLYQLENYCN\""
   ]
  },
  {
   "cell_type": "code",
   "execution_count": null,
   "metadata": {},
   "outputs": [],
   "source": [
    "ligand = \"C([C@@H]1[C@H]([C@@H]([C@H]([C@H](O1)O)O)O)O)O\"\n",
    "ligand_type = \"smiles\""
   ]
  },
  {
   "cell_type": "code",
   "execution_count": null,
   "metadata": {},
   "outputs": [],
   "source": [
    "## Start building FASTA content\n",
    "fasta_content = f\">protein|name=chain_A\\n{aa_sequence}\\n\"\n",
    "\n",
    "## Add ligand if provided\n",
    "if ligand and ligand_type:\n",
    "    fasta_content += f\">ligand|name=chain_B\\n{ligand}\\n\""
   ]
  },
  {
   "cell_type": "code",
   "execution_count": null,
   "metadata": {},
   "outputs": [],
   "source": [
    "## Create temp fasta file\n",
    "with tempfile.NamedTemporaryFile(delete=False, suffix=\".fasta\") as temp_fasta:\n",
    "    temp_fasta.write(fasta_content.encode())\n",
    "    temp_fasta_path = temp_fasta.name"
   ]
  },
  {
   "cell_type": "code",
   "execution_count": null,
   "metadata": {},
   "outputs": [],
   "source": [
    "temp_fasta_path"
   ]
  },
  {
   "cell_type": "code",
   "execution_count": null,
   "metadata": {},
   "outputs": [],
   "source": [
    "## Create temp output directory\n",
    "output_dir = tempfile.mkdtemp()"
   ]
  },
  {
   "cell_type": "code",
   "execution_count": null,
   "metadata": {},
   "outputs": [],
   "source": [
    "output_dir"
   ]
  },
  {
   "cell_type": "code",
   "execution_count": null,
   "metadata": {},
   "outputs": [],
   "source": [
    "## Detect devices\n",
    "device = torch.device(\"cuda:0\" if torch.cuda.is_available() else \"cpu\")"
   ]
  },
  {
   "cell_type": "code",
   "execution_count": null,
   "metadata": {},
   "outputs": [],
   "source": [
    "## Run inferencing\n",
    "candidates = run_inference(\n",
    "    fasta_file=Path(temp_fasta_path),\n",
    "    output_dir=Path(output_dir),\n",
    "    num_trunk_recycles=3,\n",
    "    num_diffn_timesteps=200,\n",
    "    seed=1337,\n",
    "    device=device,\n",
    "    use_esm_embeddings=True\n",
    ")"
   ]
  },
  {
   "cell_type": "code",
   "execution_count": null,
   "metadata": {},
   "outputs": [],
   "source": [
    "cif_paths = candidates.cif_paths"
   ]
  },
  {
   "cell_type": "code",
   "execution_count": null,
   "metadata": {},
   "outputs": [],
   "source": [
    "cif_paths[0]"
   ]
  },
  {
   "cell_type": "code",
   "execution_count": null,
   "metadata": {},
   "outputs": [],
   "source": [
    "# chai fold --use-msa-server /var/folders/__/1v5xyw5s0tl2z88yrm0lb4d40000gn/T/tmp7wlvyof_.fasta /var/folders/__/1v5xyw5s0tl2z88yrm0lb4d40000gn/T/tmpfxq2i5x6"
   ]
  },
  {
   "cell_type": "code",
   "execution_count": null,
   "metadata": {},
   "outputs": [],
   "source": []
  }
 ],
 "metadata": {
  "kernelspec": {
   "display_name": "pymolfold-chai",
   "language": "python",
   "name": "python3"
  },
  "language_info": {
   "codemirror_mode": {
    "name": "ipython",
    "version": 3
   },
   "file_extension": ".py",
   "mimetype": "text/x-python",
   "name": "python",
   "nbconvert_exporter": "python",
   "pygments_lexer": "ipython3",
   "version": "3.12.8"
  }
 },
 "nbformat": 4,
 "nbformat_minor": 2
}
