{
 "cells": [
  {
   "cell_type": "markdown",
   "metadata": {},
   "source": [
    "# Chai-1 Tests"
   ]
  },
  {
   "cell_type": "code",
   "execution_count": 2,
   "metadata": {},
   "outputs": [
    {
     "name": "stderr",
     "output_type": "stream",
     "text": [
      "/opt/anaconda3/envs/pymolfold-chai/lib/python3.12/site-packages/tqdm/auto.py:21: TqdmWarning: IProgress not found. Please update jupyter and ipywidgets. See https://ipywidgets.readthedocs.io/en/stable/user_install.html\n",
      "  from .autonotebook import tqdm as notebook_tqdm\n"
     ]
    }
   ],
   "source": [
    "from chai_lab.chai1 import run_inference\n",
    "import torch\n",
    "import tempfile\n",
    "from pathlib import Path"
   ]
  },
  {
   "cell_type": "code",
   "execution_count": 3,
   "metadata": {},
   "outputs": [],
   "source": [
    "aa_sequence = \"FVNQHLCGSHLVEALYLVCGERGFFYTPKTRREAEDLQGSLQPLALEGSLQKRGIVEQCCTSICSLYQLENYCN\""
   ]
  },
  {
   "cell_type": "code",
   "execution_count": 4,
   "metadata": {},
   "outputs": [],
   "source": [
    "ligand = \"C([C@@H]1[C@H]([C@@H]([C@H]([C@H](O1)O)O)O)O)O\"\n",
    "ligand_type = \"smiles\""
   ]
  },
  {
   "cell_type": "code",
   "execution_count": 5,
   "metadata": {},
   "outputs": [],
   "source": [
    "## Start building FASTA content\n",
    "fasta_content = f\">protein|name=chain_A\\n{aa_sequence}\\n\"\n",
    "\n",
    "## Add ligand if provided\n",
    "if ligand and ligand_type:\n",
    "    fasta_content += f\">ligand|name=chain_B\\n{ligand}\\n\""
   ]
  },
  {
   "cell_type": "code",
   "execution_count": 6,
   "metadata": {},
   "outputs": [],
   "source": [
    "## Create temp fasta file\n",
    "with tempfile.NamedTemporaryFile(delete=False, suffix=\".fasta\") as temp_fasta:\n",
    "    temp_fasta.write(fasta_content.encode())\n",
    "    temp_fasta_path = temp_fasta.name"
   ]
  },
  {
   "cell_type": "code",
   "execution_count": 7,
   "metadata": {},
   "outputs": [
    {
     "data": {
      "text/plain": [
       "'/var/folders/__/1v5xyw5s0tl2z88yrm0lb4d40000gn/T/tmpl0le2gza.fasta'"
      ]
     },
     "execution_count": 7,
     "metadata": {},
     "output_type": "execute_result"
    }
   ],
   "source": [
    "temp_fasta_path"
   ]
  },
  {
   "cell_type": "code",
   "execution_count": 8,
   "metadata": {},
   "outputs": [],
   "source": [
    "## Create temp output directory\n",
    "output_dir = tempfile.mkdtemp()"
   ]
  },
  {
   "cell_type": "code",
   "execution_count": 9,
   "metadata": {},
   "outputs": [
    {
     "data": {
      "text/plain": [
       "'/var/folders/__/1v5xyw5s0tl2z88yrm0lb4d40000gn/T/tmp063v5q8i'"
      ]
     },
     "execution_count": 9,
     "metadata": {},
     "output_type": "execute_result"
    }
   ],
   "source": [
    "output_dir"
   ]
  },
  {
   "cell_type": "code",
   "execution_count": 10,
   "metadata": {},
   "outputs": [],
   "source": [
    "## Detect devices\n",
    "device = torch.device(\"cuda:0\" if torch.cuda.is_available() else \"cpu\")"
   ]
  },
  {
   "cell_type": "code",
   "execution_count": 12,
   "metadata": {},
   "outputs": [
    {
     "name": "stderr",
     "output_type": "stream",
     "text": [
      "Failed to tokenize input entity_data=AllAtomEntityData(residues=[Residue(name='LIG', label_seq=0, restype=20, residue_index=0, is_missing=False, b_factor_or_plddt=0.0, conformer_data=None, smiles='C([C@@H]1[C@H]([C@@H]([C@H]([C@H](O1)O)O)O)O)O', is_covalent_bonded=False)], full_sequence=['LIG'], resolution=0.0, release_datetime=datetime.datetime(2024, 12, 23, 14, 51, 5, 14479), pdb_id='test', source_pdb_chain_id='B', entity_name='chain_B', entity_id=1, method='none', entity_type=<EntityType.LIGAND: 3>, subchain_id='B', is_d_polypeptide=False, original_record='C([C@@H]1[C@H]([C@@H]([C@H]([C@H](O1)O)O)O)O)O')  sym_id=0\n",
      "Traceback (most recent call last):\n",
      "  File \"/opt/anaconda3/envs/pymolfold-chai/lib/python3.12/site-packages/chai_lab/data/dataset/inference_dataset.py\", line 185, in load_chains_from_raw\n",
      "    tok = tokenizer._tokenize_entity(\n",
      "          ^^^^^^^^^^^^^^^^^^^^^^^^^^^\n",
      "  File \"/opt/anaconda3/envs/pymolfold-chai/lib/python3.12/site-packages/chai_lab/data/dataset/structure/all_atom_residue_tokenizer.py\", line 386, in _tokenize_entity\n",
      "    self.tokenize_residue(residue, entity_data.entity_type)\n",
      "  File \"/opt/anaconda3/envs/pymolfold-chai/lib/python3.12/site-packages/chai_lab/data/dataset/structure/all_atom_residue_tokenizer.py\", line 150, in tokenize_residue\n",
      "    ref_conformer_data = self._get_ref_conformer_data(residue)\n",
      "                         ^^^^^^^^^^^^^^^^^^^^^^^^^^^^^^^^^^^^^\n",
      "  File \"/opt/anaconda3/envs/pymolfold-chai/lib/python3.12/site-packages/chai_lab/data/dataset/structure/all_atom_residue_tokenizer.py\", line 564, in _get_ref_conformer_data\n",
      "    return self.ref_conformer_generator.generate(residue.smiles)\n",
      "           ^^^^^^^^^^^^^^^^^^^^^^^^^^^^^^^^^^^^^^^^^^^^^^^^^^^^^\n",
      "  File \"/opt/anaconda3/envs/pymolfold-chai/lib/python3.12/site-packages/chai_lab/data/sources/rdkit.py\", line 162, in generate\n",
      "    retval = self._load_ref_conformer_from_rdkit(mol_with_hs)\n",
      "             ^^^^^^^^^^^^^^^^^^^^^^^^^^^^^^^^^^^^^^^^^^^^^^^^\n",
      "  File \"/opt/anaconda3/envs/pymolfold-chai/lib/python3.12/site-packages/chai_lab/data/sources/rdkit.py\", line 113, in _load_ref_conformer_from_rdkit\n",
      "    symms = get_intra_res_atom_symmetries(mol)\n",
      "            ^^^^^^^^^^^^^^^^^^^^^^^^^^^^^^^^^^\n",
      "  File \"/opt/anaconda3/envs/pymolfold-chai/lib/python3.12/site-packages/chai_lab/data/sources/rdkit.py\", line 250, in get_intra_res_atom_symmetries\n",
      "    symms = _get_symmetries()\n",
      "            ^^^^^^^^^^^^^^^^^\n",
      "  File \"/opt/anaconda3/envs/pymolfold-chai/lib/python3.12/site-packages/chai_lab/utils/timeout.py\", line 77, in new_fn\n",
      "    proc.start()\n",
      "  File \"/opt/anaconda3/envs/pymolfold-chai/lib/python3.12/multiprocessing/process.py\", line 121, in start\n",
      "    self._popen = self._Popen(self)\n",
      "                  ^^^^^^^^^^^^^^^^^\n",
      "  File \"/opt/anaconda3/envs/pymolfold-chai/lib/python3.12/multiprocessing/context.py\", line 224, in _Popen\n",
      "    return _default_context.get_context().Process._Popen(process_obj)\n",
      "           ^^^^^^^^^^^^^^^^^^^^^^^^^^^^^^^^^^^^^^^^^^^^^^^^^^^^^^^^^^\n",
      "  File \"/opt/anaconda3/envs/pymolfold-chai/lib/python3.12/multiprocessing/context.py\", line 289, in _Popen\n",
      "    return Popen(process_obj)\n",
      "           ^^^^^^^^^^^^^^^^^^\n",
      "  File \"/opt/anaconda3/envs/pymolfold-chai/lib/python3.12/multiprocessing/popen_spawn_posix.py\", line 32, in __init__\n",
      "    super().__init__(process_obj)\n",
      "  File \"/opt/anaconda3/envs/pymolfold-chai/lib/python3.12/multiprocessing/popen_fork.py\", line 19, in __init__\n",
      "    self._launch(process_obj)\n",
      "  File \"/opt/anaconda3/envs/pymolfold-chai/lib/python3.12/multiprocessing/popen_spawn_posix.py\", line 47, in _launch\n",
      "    reduction.dump(process_obj, fp)\n",
      "  File \"/opt/anaconda3/envs/pymolfold-chai/lib/python3.12/multiprocessing/reduction.py\", line 60, in dump\n",
      "    ForkingPickler(file, protocol).dump(obj)\n",
      "AttributeError: Can't get local object 'timeout.<locals>.handler'\n",
      "Trunk recycles: 0it [00:00, ?it/s]\n",
      "Diffusion steps: 0it [00:00, ?it/s]\n"
     ]
    },
    {
     "name": "stdout",
     "output_type": "stream",
     "text": [
      "Score=0.1326, writing output to /var/folders/__/1v5xyw5s0tl2z88yrm0lb4d40000gn/T/tmp063v5q8i/pred.model_idx_0.cif\n",
      "Score=0.1196, writing output to /var/folders/__/1v5xyw5s0tl2z88yrm0lb4d40000gn/T/tmp063v5q8i/pred.model_idx_1.cif\n",
      "Score=0.1264, writing output to /var/folders/__/1v5xyw5s0tl2z88yrm0lb4d40000gn/T/tmp063v5q8i/pred.model_idx_2.cif\n",
      "Score=0.1170, writing output to /var/folders/__/1v5xyw5s0tl2z88yrm0lb4d40000gn/T/tmp063v5q8i/pred.model_idx_3.cif\n",
      "Score=0.1179, writing output to /var/folders/__/1v5xyw5s0tl2z88yrm0lb4d40000gn/T/tmp063v5q8i/pred.model_idx_4.cif\n"
     ]
    }
   ],
   "source": [
    "## Run inferencing\n",
    "candidates = run_inference(\n",
    "    fasta_file=Path(temp_fasta_path),\n",
    "    output_dir=Path(output_dir),\n",
    "    # num_trunk_recycles=3,\n",
    "    # num_diffn_timesteps=200,\n",
    "    num_trunk_recycles=0,\n",
    "    num_diffn_timesteps=1,\n",
    "    seed=1337,\n",
    "    device=device,\n",
    "    # use_esm_embeddings=True\n",
    "    use_esm_embeddings=False\n",
    ")"
   ]
  },
  {
   "cell_type": "code",
   "execution_count": 13,
   "metadata": {},
   "outputs": [],
   "source": [
    "cif_paths = candidates.cif_paths"
   ]
  },
  {
   "cell_type": "code",
   "execution_count": 15,
   "metadata": {},
   "outputs": [
    {
     "data": {
      "text/plain": [
       "'/var/folders/__/1v5xyw5s0tl2z88yrm0lb4d40000gn/T/tmp063v5q8i/pred.model_idx_0.cif'"
      ]
     },
     "execution_count": 15,
     "metadata": {},
     "output_type": "execute_result"
    }
   ],
   "source": [
    "str(cif_paths[0])"
   ]
  },
  {
   "cell_type": "code",
   "execution_count": null,
   "metadata": {},
   "outputs": [],
   "source": [
    "# chai fold --use-msa-server /var/folders/__/1v5xyw5s0tl2z88yrm0lb4d40000gn/T/tmp7wlvyof_.fasta /var/folders/__/1v5xyw5s0tl2z88yrm0lb4d40000gn/T/tmpfxq2i5x6"
   ]
  },
  {
   "cell_type": "code",
   "execution_count": null,
   "metadata": {},
   "outputs": [],
   "source": []
  }
 ],
 "metadata": {
  "kernelspec": {
   "display_name": "pymolfold-chai",
   "language": "python",
   "name": "python3"
  },
  "language_info": {
   "codemirror_mode": {
    "name": "ipython",
    "version": 3
   },
   "file_extension": ".py",
   "mimetype": "text/x-python",
   "name": "python",
   "nbconvert_exporter": "python",
   "pygments_lexer": "ipython3",
   "version": "3.12.8"
  }
 },
 "nbformat": 4,
 "nbformat_minor": 2
}
