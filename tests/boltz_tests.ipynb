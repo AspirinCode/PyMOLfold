{
 "cells": [
  {
   "cell_type": "markdown",
   "metadata": {},
   "source": [
    "# Boltz-1 Tests"
   ]
  },
  {
   "cell_type": "code",
   "execution_count": 19,
   "metadata": {},
   "outputs": [],
   "source": [
    "import os, tempfile"
   ]
  },
  {
   "cell_type": "code",
   "execution_count": 20,
   "metadata": {},
   "outputs": [],
   "source": [
    "aa_sequence = \"FVNQHLCGSHLVEALYLVCGERGFFYTPKTRREAEDLQGSLQPLALEGSLQKRGIVEQCCTSICSLYQLENYCN\""
   ]
  },
  {
   "cell_type": "code",
   "execution_count": 45,
   "metadata": {},
   "outputs": [],
   "source": [
    "fasta_line = f\">A|protein|empty\\n{aa_sequence}\""
   ]
  },
  {
   "cell_type": "code",
   "execution_count": 46,
   "metadata": {},
   "outputs": [
    {
     "name": "stdout",
     "output_type": "stream",
     "text": [
      ">A|protein|empty\n",
      "FVNQHLCGSHLVEALYLVCGERGFFYTPKTRREAEDLQGSLQPLALEGSLQKRGIVEQCCTSICSLYQLENYCN\n"
     ]
    }
   ],
   "source": [
    "print(fasta_line)"
   ]
  },
  {
   "cell_type": "code",
   "execution_count": 35,
   "metadata": {},
   "outputs": [
    {
     "name": "stdout",
     "output_type": "stream",
     "text": [
      "Temp fasta file created: C:\\Users\\Colby\\AppData\\Local\\Temp\\tmph1lqnozg.fasta\n"
     ]
    }
   ],
   "source": [
    "## Create temp fasta file\n",
    "with tempfile.NamedTemporaryFile(delete=False, suffix=\".fasta\") as temp_fasta:\n",
    "    temp_fasta.write(fasta_line.encode())\n",
    "    temp_fasta_path = temp_fasta.name\n",
    "    temp_fasta_filename = os.path.basename(temp_fasta_path).replace(\".fasta\", \"\")\n",
    "\n",
    "print(f\"Temp fasta file created: {temp_fasta_path}\")"
   ]
  },
  {
   "cell_type": "code",
   "execution_count": 41,
   "metadata": {},
   "outputs": [],
   "source": [
    "## Create temp output directory\n",
    "output_dir = tempfile.mkdtemp()\n",
    "\n",
    "output_path = os.path.join(output_dir, temp_fasta_filename, f\"{temp_fasta_filename}_model_0.pdb\")"
   ]
  },
  {
   "cell_type": "code",
   "execution_count": 42,
   "metadata": {},
   "outputs": [
    {
     "name": "stdout",
     "output_type": "stream",
     "text": [
      "Temp output path: C:\\Users\\Colby\\AppData\\Local\\Temp\\tmpcd_j4hfq\\tmph1lqnozg\\tmph1lqnozg_model_0.pdb\n"
     ]
    }
   ],
   "source": [
    "print(f\"Temp output path: {output_path}\")"
   ]
  },
  {
   "cell_type": "code",
   "execution_count": null,
   "metadata": {},
   "outputs": [],
   "source": [
    "os.system(f\"boltz predict {temp_fasta_path} --out_dir {output_dir} --output_format pdb --use_msa_server --accelerator cpu\")"
   ]
  },
  {
   "cell_type": "code",
   "execution_count": 43,
   "metadata": {},
   "outputs": [
    {
     "name": "stderr",
     "output_type": "stream",
     "text": [
      "Usage: C:\\Users\\Colby\\AppData\\Local\\Temp\\tmpcd_j4hfq [OPTIONS] DATA\n",
      "Try 'C:\\Users\\Colby\\AppData\\Local\\Temp\\tmpcd_j4hfq --help' for help.\n",
      "\n",
      "Error: Invalid value for 'DATA': Path 'C' does not exist.\n"
     ]
    },
    {
     "ename": "SystemExit",
     "evalue": "2",
     "output_type": "error",
     "traceback": [
      "An exception has occurred, use %tb to see the full traceback.\n",
      "\u001b[1;31mSystemExit\u001b[0m\u001b[1;31m:\u001b[0m 2\n"
     ]
    }
   ],
   "source": [
    "import boltz\n",
    "\n",
    "boltz.main.predict(temp_fasta_path, output_dir)"
   ]
  }
 ],
 "metadata": {
  "kernelspec": {
   "display_name": "base",
   "language": "python",
   "name": "python3"
  },
  "language_info": {
   "codemirror_mode": {
    "name": "ipython",
    "version": 3
   },
   "file_extension": ".py",
   "mimetype": "text/x-python",
   "name": "python",
   "nbconvert_exporter": "python",
   "pygments_lexer": "ipython3",
   "version": "3.10.15"
  }
 },
 "nbformat": 4,
 "nbformat_minor": 2
}
