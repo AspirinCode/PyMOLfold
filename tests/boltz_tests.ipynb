{
 "cells": [
  {
   "cell_type": "markdown",
   "metadata": {},
   "source": [
    "# Boltz-1 Tests"
   ]
  },
  {
   "cell_type": "code",
   "execution_count": 15,
   "metadata": {},
   "outputs": [],
   "source": [
    "import os, tempfile, subprocess"
   ]
  },
  {
   "cell_type": "code",
   "execution_count": 2,
   "metadata": {},
   "outputs": [],
   "source": [
    "aa_sequence = \"FVNQHLCGSHLVEALYLVCGERGFFYTPKTRREAEDLQGSLQPLALEGSLQKRGIVEQCCTSICSLYQLENYCN\""
   ]
  },
  {
   "cell_type": "code",
   "execution_count": 3,
   "metadata": {},
   "outputs": [],
   "source": [
    "ligand = \"C([C@@H]1[C@H]([C@@H]([C@H]([C@H](O1)O)O)O)O)O\"\n",
    "ligand_type = \"smiles\""
   ]
  },
  {
   "cell_type": "code",
   "execution_count": 29,
   "metadata": {},
   "outputs": [],
   "source": [
    "## Start building FASTA content\n",
    "fasta_content = f\">A|protein|empty\\n{aa_sequence}\\n\"\n",
    "\n",
    "## Add ligand if provided\n",
    "if ligand and ligand_type:\n",
    "    fasta_content += f\">B|{ligand_type}|\\n{ligand}\\n\""
   ]
  },
  {
   "cell_type": "code",
   "execution_count": 30,
   "metadata": {},
   "outputs": [],
   "source": [
    "# fasta_line = f\">A|protein|empty\\n{aa_sequence}\""
   ]
  },
  {
   "cell_type": "code",
   "execution_count": 43,
   "metadata": {},
   "outputs": [
    {
     "name": "stdout",
     "output_type": "stream",
     "text": [
      ">A|protein|empty\n",
      "FVNQHLCGSHLVEALYLVCGERGFFYTPKTRREAEDLQGSLQPLALEGSLQKRGIVEQCCTSICSLYQLENYCN\n",
      ">B|smiles|\n",
      "C([C@@H]1[C@H]([C@@H]([C@H]([C@H](O1)O)O)O)O)O\n",
      "\n"
     ]
    }
   ],
   "source": [
    "print(fasta_content)"
   ]
  },
  {
   "cell_type": "code",
   "execution_count": 44,
   "metadata": {},
   "outputs": [
    {
     "name": "stdout",
     "output_type": "stream",
     "text": [
      "Temp fasta file created: C:\\Users\\Colby\\AppData\\Local\\Temp\\tmp0fqkelxc.fasta\n"
     ]
    }
   ],
   "source": [
    "## Create temp fasta file\n",
    "with tempfile.NamedTemporaryFile(delete=False, suffix=\".fasta\") as temp_fasta:\n",
    "    temp_fasta.write(fasta_content.encode())\n",
    "    temp_fasta_path = temp_fasta.name\n",
    "    temp_fasta_filename = os.path.basename(temp_fasta_path).replace(\".fasta\", \"\")\n",
    "\n",
    "print(f\"Temp fasta file created: {temp_fasta_path}\")"
   ]
  },
  {
   "cell_type": "code",
   "execution_count": 45,
   "metadata": {},
   "outputs": [],
   "source": [
    "## Create temp output directory\n",
    "output_dir = tempfile.mkdtemp()"
   ]
  },
  {
   "cell_type": "code",
   "execution_count": 46,
   "metadata": {},
   "outputs": [],
   "source": [
    "output_path = os.path.join(output_dir,\n",
    "                           f\"boltz_results_{temp_fasta_filename.replace(\".fasta\",\"\")}\",\n",
    "                           \"predictions\",\n",
    "                           temp_fasta_filename.replace(\".fasta\",\"\"),\n",
    "                           f\"{temp_fasta_filename}_model_0.pdb\")"
   ]
  },
  {
   "cell_type": "code",
   "execution_count": 47,
   "metadata": {},
   "outputs": [
    {
     "name": "stdout",
     "output_type": "stream",
     "text": [
      "Temp output path: C:\\Users\\Colby\\AppData\\Local\\Temp\\tmpbgtemwg8\\boltz_results_tmp0fqkelxc\\predictions\\tmp0fqkelxc\\tmp0fqkelxc_model_0.pdb\n"
     ]
    }
   ],
   "source": [
    "print(f\"Temp output path: {output_path}\")"
   ]
  },
  {
   "cell_type": "code",
   "execution_count": 48,
   "metadata": {},
   "outputs": [],
   "source": [
    "cmd = [\n",
    "     \"boltz\",\n",
    "     \"predict\",\n",
    "     temp_fasta_path,\n",
    "     \"--out_dir\", output_dir,\n",
    "     \"--accelerator\", \"cpu\",\n",
    "     \"--output_format\", \"pdb\",\n",
    "     \"--recycling_steps\", str(3),\n",
    "     \"--sampling_steps\", str(200)\n",
    "]"
   ]
  },
  {
   "cell_type": "code",
   "execution_count": 49,
   "metadata": {},
   "outputs": [
    {
     "data": {
      "text/plain": [
       "'boltz predict C:\\\\Users\\\\Colby\\\\AppData\\\\Local\\\\Temp\\\\tmp0fqkelxc.fasta --out_dir C:\\\\Users\\\\Colby\\\\AppData\\\\Local\\\\Temp\\\\tmpbgtemwg8 --accelerator cpu --output_format pdb --recycling_steps 3 --sampling_steps 200'"
      ]
     },
     "execution_count": 49,
     "metadata": {},
     "output_type": "execute_result"
    }
   ],
   "source": [
    "\" \".join(cmd)"
   ]
  },
  {
   "cell_type": "code",
   "execution_count": 37,
   "metadata": {},
   "outputs": [
    {
     "name": "stdout",
     "output_type": "stream",
     "text": [
      "Running on CPU, this will be slow. Consider using a GPU.\n",
      "Checking input data.\n",
      "Running predictions for 1 structure\n",
      "Processing input data.\n",
      "Found explicit empty MSA for some proteins, will run these in single sequence mode. Keep in mind that the model predictions will be suboptimal without an MSA.\n",
      "\n",
      "Predicting: |          | 0/? [00:00<?, ?it/s]\n",
      "Predicting:   0%|          | 0/1 [00:00<?, ?it/s]\n",
      "Predicting DataLoader 0:   0%|          | 0/1 [00:00<?, ?it/s]\n",
      "Predicting DataLoader 0: 100%|██████████| 1/1 [00:54<00:00,  0.02it/s]Number of failed examples: 0\n",
      "\n",
      "Predicting DataLoader 0: 100%|██████████| 1/1 [00:54<00:00,  0.02it/s]\n"
     ]
    },
    {
     "name": "stderr",
     "output_type": "stream",
     "text": [
      "\n",
      "  0%|          | 0/1 [00:00<?, ?it/s]\n",
      "100%|██████████| 1/1 [00:00<00:00,  7.69it/s]\n",
      "100%|██████████| 1/1 [00:00<00:00,  7.69it/s]\n",
      "GPU available: False, used: False\n",
      "TPU available: False, using: 0 TPU cores\n",
      "HPU available: False, using: 0 HPUs\n",
      "C:\\Users\\Colby\\.conda\\envs\\pymolfold\\Lib\\site-packages\\pytorch_lightning\\trainer\\connectors\\logger_connector\\logger_connector.py:75: Starting from v1.9.0, `tensorboardX` has been removed as a dependency of the `pytorch_lightning` package, due to potential conflicts with other packages in the ML ecosystem. For this reason, `logger=True` will use `CSVLogger` as the default logger, unless the `tensorboard` or `tensorboardX` packages are found. Please `pip install lightning[extra]` or one of them to enable TensorBoard support by default\n",
      "C:\\Users\\Colby\\.conda\\envs\\pymolfold\\Lib\\site-packages\\pytorch_lightning\\trainer\\connectors\\data_connector.py:419: Consider setting `persistent_workers=True` in 'predict_dataloader' to speed up the dataloader worker initialization.\n"
     ]
    }
   ],
   "source": [
    "!boltz predict C:\\\\Users\\\\Colby\\\\AppData\\\\Local\\\\Temp\\\\tmpq3l6l6fi.fasta --out_dir C:\\\\Users\\\\Colby\\\\AppData\\\\Local\\\\Temp\\\\tmpu71jqxh0 --accelerator cpu --output_format pdb --recycling_steps 3 --sampling_steps 200\n"
   ]
  },
  {
   "cell_type": "code",
   "execution_count": 22,
   "metadata": {},
   "outputs": [
    {
     "data": {
      "text/plain": [
       "CompletedProcess(args=['boltz', '--help'], returncode=0)"
      ]
     },
     "execution_count": 22,
     "metadata": {},
     "output_type": "execute_result"
    }
   ],
   "source": [
    "subprocess.run([\"boltz\", \"--help\"])"
   ]
  },
  {
   "cell_type": "code",
   "execution_count": 50,
   "metadata": {},
   "outputs": [],
   "source": [
    "result = subprocess.run(cmd, capture_output=True, text=True, check=True)"
   ]
  }
 ],
 "metadata": {
  "kernelspec": {
   "display_name": "pymolfold",
   "language": "python",
   "name": "python3"
  },
  "language_info": {
   "codemirror_mode": {
    "name": "ipython",
    "version": 3
   },
   "file_extension": ".py",
   "mimetype": "text/x-python",
   "name": "python",
   "nbconvert_exporter": "python",
   "pygments_lexer": "ipython3",
   "version": "3.12.8"
  }
 },
 "nbformat": 4,
 "nbformat_minor": 2
}
