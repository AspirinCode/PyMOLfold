{
 "cells": [
  {
   "cell_type": "markdown",
   "metadata": {},
   "source": [
    "# Protenix Tests"
   ]
  },
  {
   "cell_type": "code",
   "execution_count": 10,
   "metadata": {},
   "outputs": [],
   "source": [
    "import os, tempfile, subprocess, json"
   ]
  },
  {
   "cell_type": "code",
   "execution_count": 2,
   "metadata": {},
   "outputs": [],
   "source": [
    "aa_sequence = \"FVNQHLCGSHLVEALYLVCGERGFFYTPKTRREAEDLQGSLQPLALEGSLQKRGIVEQCCTSICSLYQLENYCN\""
   ]
  },
  {
   "cell_type": "code",
   "execution_count": 3,
   "metadata": {},
   "outputs": [],
   "source": [
    "ligand = \"C([C@@H]1[C@H]([C@@H]([C@H]([C@H](O1)O)O)O)O)O\"\n",
    "ligand_type = \"smiles\""
   ]
  },
  {
   "cell_type": "code",
   "execution_count": 7,
   "metadata": {},
   "outputs": [],
   "source": [
    "json_content = [\n",
    "    {\"sequences\": [\n",
    "            {\n",
    "                \"proteinChain\": {\n",
    "                    \"sequence\": aa_sequence,\n",
    "                    \"count\": 1\n",
    "                }\n",
    "            },\n",
    "            # {\n",
    "            #     \"ligand\": {\n",
    "            #         \"ligand\": ligand,\n",
    "            #         \"count\": 1\n",
    "            #     }\n",
    "            # }\n",
    "        ],\n",
    "        \"name\": \"pymolfold\"\n",
    "        }\n",
    "    ]\n",
    "\n",
    "## If ligand provided, add it to the JSON\n",
    "if ligand:\n",
    "    ligand_dict = {\n",
    "        \"ligand\": {\n",
    "            \"ligand\": ligand,\n",
    "            \"count\": 1\n",
    "        }\n",
    "    }\n",
    "    json_content[0][\"sequences\"].append(ligand_dict)"
   ]
  },
  {
   "cell_type": "code",
   "execution_count": 8,
   "metadata": {},
   "outputs": [
    {
     "name": "stdout",
     "output_type": "stream",
     "text": [
      "[{'sequences': [{'proteinChain': {'sequence': 'FVNQHLCGSHLVEALYLVCGERGFFYTPKTRREAEDLQGSLQPLALEGSLQKRGIVEQCCTSICSLYQLENYCN', 'count': 1}}, {'ligand': {'ligand': 'C([C@@H]1[C@H]([C@@H]([C@H]([C@H](O1)O)O)O)O)O', 'count': 1}}], 'name': 'pymolfold'}]\n"
     ]
    }
   ],
   "source": [
    "print(json_content)"
   ]
  },
  {
   "cell_type": "code",
   "execution_count": 11,
   "metadata": {},
   "outputs": [
    {
     "name": "stdout",
     "output_type": "stream",
     "text": [
      "Temp JSON file created: C:\\Users\\Colby\\AppData\\Local\\Temp\\tmpqxafqpt3.json\n"
     ]
    }
   ],
   "source": [
    "## Create temp json file\n",
    "with tempfile.NamedTemporaryFile(delete=False, suffix=\".json\") as temp_json:\n",
    "    temp_json.write(json.dumps(json_content).encode())\n",
    "    temp_json_path = temp_json.name\n",
    "    temp_json_filename = os.path.basename(temp_json_path).replace(\".json\", \"\")\n",
    "\n",
    "print(f\"Temp JSON file created: {temp_json_path}\")"
   ]
  },
  {
   "cell_type": "code",
   "execution_count": 13,
   "metadata": {},
   "outputs": [],
   "source": [
    "## Create temp output directory\n",
    "output_dir = tempfile.mkdtemp()"
   ]
  },
  {
   "cell_type": "code",
   "execution_count": 14,
   "metadata": {},
   "outputs": [
    {
     "name": "stdout",
     "output_type": "stream",
     "text": [
      "Temp output path: C:\\Users\\Colby\\AppData\\Local\\Temp\\tmpbj3l70xu\n"
     ]
    }
   ],
   "source": [
    "print(f\"Temp output path: {output_dir}\")"
   ]
  },
  {
   "cell_type": "code",
   "execution_count": 17,
   "metadata": {},
   "outputs": [],
   "source": [
    "cmd = [\n",
    "     \"protenix\",\n",
    "     \"predict\",\n",
    "     \"--input\", temp_json_path,\n",
    "     \"--out_dir\", output_dir,\n",
    "     \"--seeds\", str(1337)\n",
    "     ]\n",
    "\n",
    "cmd.append(\"--use_msa_server\")"
   ]
  },
  {
   "cell_type": "code",
   "execution_count": 18,
   "metadata": {},
   "outputs": [
    {
     "data": {
      "text/plain": [
       "'protenix predict --input C:\\\\Users\\\\Colby\\\\AppData\\\\Local\\\\Temp\\\\tmpqxafqpt3.json --out_dir C:\\\\Users\\\\Colby\\\\AppData\\\\Local\\\\Temp\\\\tmpbj3l70xu --seeds 1337 --use_msa_server'"
      ]
     },
     "execution_count": 18,
     "metadata": {},
     "output_type": "execute_result"
    }
   ],
   "source": [
    "\" \".join(cmd)"
   ]
  },
  {
   "cell_type": "code",
   "execution_count": 50,
   "metadata": {},
   "outputs": [],
   "source": [
    "result = subprocess.run(cmd, capture_output=True, text=True, check=True)"
   ]
  }
 ],
 "metadata": {
  "kernelspec": {
   "display_name": "pymolfold",
   "language": "python",
   "name": "python3"
  },
  "language_info": {
   "codemirror_mode": {
    "name": "ipython",
    "version": 3
   },
   "file_extension": ".py",
   "mimetype": "text/x-python",
   "name": "python",
   "nbconvert_exporter": "python",
   "pygments_lexer": "ipython3",
   "version": "3.12.8"
  }
 },
 "nbformat": 4,
 "nbformat_minor": 2
}
